{
 "cells": [
  {
   "cell_type": "code",
   "execution_count": null,
   "id": "6560b6f2",
   "metadata": {},
   "outputs": [],
   "source": [
    "import sys\n",
    "import importlib\n",
    "import os\n",
    "import json\n",
    "# Add parent directory to sys.path\n",
    "sys.path.append(os.path.abspath(\"../src\"))\n",
    "import comparison_analysis\n",
    "importlib.reload(comparison_analysis)\n",
    "from comparison_analysis import run_analysis\n",
    "from comparison_visualisation import run_visualization"
   ]
  },
  {
   "cell_type": "code",
   "execution_count": null,
   "id": "301a313d",
   "metadata": {},
   "outputs": [],
   "source": [
    "mistral_file = \"../data/parsed_mistral_evaluations.json\"\n",
    "gemma_file = \"../data/gemma_evaluations.json\"\n",
    "analyzer, comparison = run_analysis(mistral_file, gemma_file)"
   ]
  },
  {
   "cell_type": "code",
   "execution_count": null,
   "id": "cf10c801",
   "metadata": {},
   "outputs": [],
   "source": [
    "run_visualization(mistral_file, gemma_file)"
   ]
  },
  {
   "cell_type": "markdown",
   "id": "aa43c94b",
   "metadata": {},
   "source": [
    "The analysis confirms that the pre-trained mistralai/Mistral-7B-v0.1 model, in its raw state, provides a functional but unrefined baseline for domain name generation. The gemma model demonstrates significantly higher performance in quality, relevance, and adherence to stylistic constraints. This performance gap is not a weakness of Mistral, but rather a clear, quantifiable benchmark of the improvement possible."
   ]
  }
 ],
 "metadata": {
  "kernelspec": {
   "display_name": ".venv",
   "language": "python",
   "name": "python3"
  },
  "language_info": {
   "codemirror_mode": {
    "name": "ipython",
    "version": 3
   },
   "file_extension": ".py",
   "mimetype": "text/x-python",
   "name": "python",
   "nbconvert_exporter": "python",
   "pygments_lexer": "ipython3",
   "version": "3.10.12"
  }
 },
 "nbformat": 4,
 "nbformat_minor": 5
}
