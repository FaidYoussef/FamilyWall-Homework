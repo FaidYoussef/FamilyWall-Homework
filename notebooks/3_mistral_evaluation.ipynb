{
 "cells": [
  {
   "cell_type": "code",
   "execution_count": null,
   "id": "b8df57eb",
   "metadata": {},
   "outputs": [],
   "source": [
    "import sys\n",
    "import importlib\n",
    "import os\n",
    "import json\n",
    "# Add parent directory to sys.path\n",
    "sys.path.append(os.path.abspath(\"../src\"))\n",
    "import mistral_evaluation\n",
    "importlib.reload(mistral_evaluation)\n",
    "from mistral_evaluation import run_mistral_evaluation\n",
    "from mistral_evaluation import run_gemma_evaluation"
   ]
  },
  {
   "cell_type": "code",
   "execution_count": null,
   "id": "428ed3b5",
   "metadata": {},
   "outputs": [],
   "source": [
    "output_file = \"parsed_mistral_evaluations.json\"\n",
    "input_file = \"parsed_mistral.json\"\n",
    "# run_mistral_evaluation(input_file, output_file)"
   ]
  },
  {
   "cell_type": "code",
   "execution_count": null,
   "id": "eb2b8aa8",
   "metadata": {},
   "outputs": [],
   "source": [
    "output_file = \"gemma_evaluations.json\"\n",
    "input_file = \"../data/all_businesses_descriptions_and_domains.json\"\n",
    "run_gemma_evaluation(input_file, output_file)"
   ]
  },
  {
   "cell_type": "code",
   "execution_count": null,
   "id": "f4193619",
   "metadata": {},
   "outputs": [],
   "source": [
    "# Load the JSON file\n",
    "with open('temp_results.json', \"r\", encoding=\"utf-8\") as f:\n",
    "    data = json.load(f)\n",
    "\n",
    "# Keep only entries with non-null evaluation\n",
    "cleaned_data = [entry for entry in data if entry[\"evaluation\"] is not None]\n",
    "\n",
    "# Save the cleaned data\n",
    "with open('temp_results.json', \"w\", encoding=\"utf-8\") as f:\n",
    "    json.dump(cleaned_data, f, indent=2, ensure_ascii=False)\n",
    "\n",
    "with open(output_file, \"w\", encoding=\"utf-8\") as f:\n",
    "    json.dump(cleaned_data, f, indent=2, ensure_ascii=False)\n",
    "\n",
    "print(f\"✅ Cleaned file saved to {output_file} ({len(cleaned_data)} entries kept)\")"
   ]
  }
 ],
 "metadata": {
  "kernelspec": {
   "display_name": ".venv",
   "language": "python",
   "name": "python3"
  },
  "language_info": {
   "codemirror_mode": {
    "name": "ipython",
    "version": 3
   },
   "file_extension": ".py",
   "mimetype": "text/x-python",
   "name": "python",
   "nbconvert_exporter": "python",
   "pygments_lexer": "ipython3",
   "version": "3.10.12"
  }
 },
 "nbformat": 4,
 "nbformat_minor": 5
}
